{
 "cells": [
  {
   "cell_type": "code",
   "execution_count": 1,
   "id": "5a4bd348-bc58-4e22-9b63-9821a15469f4",
   "metadata": {},
   "outputs": [],
   "source": [
    "var process=require(\"process\")"
   ]
  },
  {
   "cell_type": "code",
   "execution_count": 2,
   "id": "cd7078e6-20c4-41be-9a4d-30304e73c002",
   "metadata": {},
   "outputs": [],
   "source": [
    "var child_process=require(\"child_process\")"
   ]
  },
  {
   "cell_type": "code",
   "execution_count": 3,
   "id": "f37b6990-4151-4904-a812-725f95848f1b",
   "metadata": {},
   "outputs": [],
   "source": [
    "var web_features=require(\"web-features\")"
   ]
  },
  {
   "cell_type": "code",
   "execution_count": 4,
   "id": "fc543855-8574-487f-8391-5a91ef7211f9",
   "metadata": {},
   "outputs": [],
   "source": [
    "var features=web_features.features"
   ]
  },
  {
   "cell_type": "code",
   "execution_count": 5,
   "id": "e049827a-16d1-42ab-9e90-573847b97fc2",
   "metadata": {},
   "outputs": [],
   "source": [
    "var exec_sync=child_process.execSync"
   ]
  },
  {
   "cell_type": "code",
   "execution_count": 6,
   "id": "f355f9cb-20bb-4bdd-b6fc-b74d319829b3",
   "metadata": {},
   "outputs": [],
   "source": [
    "var eslint=require(\"eslint\")"
   ]
  },
  {
   "cell_type": "code",
   "execution_count": 7,
   "id": "32ead200-a178-4317-bf1a-03a04f5335ab",
   "metadata": {},
   "outputs": [
    {
     "data": {
      "text/plain": [
       "[class ESLint] { configType: 'flat' }"
      ]
     },
     "execution_count": 7,
     "metadata": {},
     "output_type": "execute_result"
    }
   ],
   "source": [
    "eslint.ESLint"
   ]
  },
  {
   "cell_type": "code",
   "execution_count": 8,
   "id": "923faf84-00b0-450c-b9d3-0083d90c613f",
   "metadata": {},
   "outputs": [],
   "source": [
    "var es=new eslint.ESLint"
   ]
  },
  {
   "cell_type": "code",
   "execution_count": null,
   "id": "2339760f-aa96-476a-bbd5-16dac513b563",
   "metadata": {},
   "outputs": [],
   "source": []
  },
  {
   "cell_type": "code",
   "execution_count": 9,
   "id": "2cb1576f-039d-48f4-a70f-39c79d15041e",
   "metadata": {},
   "outputs": [],
   "source": [
    "var results=es.lintText(\"var foo = 1\\nconsole.log(foo);\")"
   ]
  },
  {
   "cell_type": "code",
   "execution_count": 10,
   "id": "5296527a-6e6e-46ed-84d0-23720c48bcfe",
   "metadata": {},
   "outputs": [
    {
     "data": {
      "text/plain": [
       "Promise {\n",
       "  [\n",
       "    {\n",
       "      filePath: '<text>',\n",
       "      messages: [Array],\n",
       "      suppressedMessages: [],\n",
       "      errorCount: 1,\n",
       "      fatalErrorCount: 0,\n",
       "      warningCount: 0,\n",
       "      fixableErrorCount: 1,\n",
       "      fixableWarningCount: 0,\n",
       "      source: 'var foo = 1\\nconsole.log(foo);',\n",
       "      usedDeprecatedRules: [Getter]\n",
       "    }\n",
       "  ]\n",
       "}"
      ]
     },
     "execution_count": 10,
     "metadata": {},
     "output_type": "execute_result"
    }
   ],
   "source": [
    "results"
   ]
  },
  {
   "cell_type": "code",
   "execution_count": 15,
   "id": "07a4ede2-8ee2-45c4-b12e-ef1d16e090da",
   "metadata": {},
   "outputs": [
    {
     "ename": "TypeError",
     "evalue": "Cannot read properties of undefined (reading 'status')",
     "execution_count": 15,
     "output_type": "error",
     "traceback": [
      "evalmachine.<anonymous>:1",
      "features[\"c\"].status",
      "              ^",
      "",
      "TypeError: Cannot read properties of undefined (reading 'status')",
      "    at evalmachine.<anonymous>:1:15",
      "    at Script.runInThisContext (node:vm:137:12)",
      "    at Object.runInThisContext (node:vm:317:38)",
      "    at run ([eval]:1020:15)",
      "    at onRunRequest ([eval]:864:18)",
      "    at onMessage ([eval]:828:13)",
      "    at process.emit (node:events:524:28)",
      "    at emit (node:internal/child_process:950:14)",
      "    at process.processTicksAndRejections (node:internal/process/task_queues:83:21)"
     ]
    }
   ],
   "source": [
    "features[\"c\"].status"
   ]
  },
  {
   "cell_type": "code",
   "execution_count": null,
   "id": "7d70857e-55c0-4e52-92b6-da38fc86af2c",
   "metadata": {},
   "outputs": [],
   "source": []
  }
 ],
 "metadata": {
  "kernelspec": {
   "display_name": "JavaScript (Node.js)",
   "language": "javascript",
   "name": "javascript"
  },
  "language_info": {
   "file_extension": ".js",
   "mimetype": "application/javascript",
   "name": "javascript",
   "version": "20.19.5"
  }
 },
 "nbformat": 4,
 "nbformat_minor": 5
}
